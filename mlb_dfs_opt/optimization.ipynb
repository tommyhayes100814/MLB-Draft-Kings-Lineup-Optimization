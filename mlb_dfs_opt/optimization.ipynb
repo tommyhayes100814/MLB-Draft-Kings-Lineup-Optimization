{
 "cells": [
  {
   "cell_type": "code",
   "execution_count": 1,
   "metadata": {},
   "outputs": [],
   "source": [
    "import pandas as pd\n",
    "from pulp import *\n",
    "from scrape_data.data import get_hitter_data, get_pitcher_data # get_data"
   ]
  },
  {
   "cell_type": "code",
   "execution_count": 2,
   "metadata": {},
   "outputs": [],
   "source": [
    "# load in inital data\n",
    "hitter_data = get_hitter_data()\n",
    "picher_data = get_pitcher_data()"
   ]
  },
  {
   "cell_type": "code",
   "execution_count": 3,
   "metadata": {},
   "outputs": [],
   "source": [
    "# create a list for the positions\n",
    "positions = ['1B', '2B', '3B', 'SS', 'C', 'SP', 'OF']\n",
    "\n",
    "def full_dataframe(df1 = hitter_data, df2 = picher_data):\n",
    "    df = df1.append(df2, sort = True, ignore_index = True)\n",
    "    return df\n",
    "\n",
    "# maybe slighly over-doing it but cleaner code\n",
    "def binary_encoding(pos = positions):\n",
    "    df = full_dataframe() # get the full dataframe\n",
    "    df['Selected'] = 1 # create a temp selected column\n",
    "    \n",
    "    # encode the data using a lambda function\n",
    "    for i in pos:\n",
    "        df[i] = df['Position'].apply(lambda x: 1 if i in x else 0)\n",
    "    return df \n",
    "\n",
    "final_df = binary_encoding()"
   ]
  },
  {
   "cell_type": "code",
   "execution_count": 4,
   "metadata": {},
   "outputs": [],
   "source": [
    "# create player list for easier display at end\n",
    "players_list = []\n",
    "\n",
    "df_len = len(final_df['Proj']) # length for cleaner code in future\n",
    "player_names = final_df['Player'] # easier future reference\n",
    "\n",
    "# define the objective of the prob\n",
    "prob = LpProblem('dfs_mlb', LpMaximize) # max total points\n",
    "\n",
    "# define the type of the objective variable\n",
    "selected = [LpVariable(player_names[i], cat='Binary') for i in range(df_len)]\n",
    "\n",
    "def constraints(df, prob = prob):\n",
    "    # define the constraints for the problem\n",
    "    prob += (pulp.lpSum(selected[i] for i in range(df_len)) == 10)\n",
    "    prob += (pulp.lpSum(df['SP'][i] * selected[i] for i in range(df_len)) == 2)\n",
    "    prob += (pulp.lpSum(df['OF'][i] * selected[i] for i in range(df_len)) == 3)\n",
    "    prob += (pulp.lpSum(df['C'][i] * selected[i] for i in range(df_len)) == 1)\n",
    "    prob += (pulp.lpSum(df['1B'][i] * selected[i] for i in range(df_len)) == 1)\n",
    "    prob += (pulp.lpSum(df['2B'][i] * selected[i] for i in range(df_len)) == 1)\n",
    "    prob += (pulp.lpSum(df['3B'][i] * selected[i] for i in range(df_len)) == 1)\n",
    "    prob += (pulp.lpSum(df['SS'][i] * selected[i] for i in range(df_len)) == 1)\n",
    "    prob += (pulp.lpSum(df['Salary'][i] * selected[i] for i in range(df_len)) <=  50000)\n",
    "    \n",
    "    # define the objected function\n",
    "    prob += (pulp.lpSum(df.loc[i, 'Proj'] * selected[i] for i in range(df_len)))\n",
    "    return prob\n",
    "\n",
    "def solve():\n",
    "    # solve the problem and get the status\n",
    "    status = constraints(final_df).solve()\n",
    "    \n",
    "    # check to see if optimal status\n",
    "    for v in prob.variables():\n",
    "            if v.varValue == 1:\n",
    "                players_list.append(v.name)\n",
    "    \n",
    "    return players_list"
   ]
  },
  {
   "cell_type": "code",
   "execution_count": 5,
   "metadata": {},
   "outputs": [
    {
     "data": {
      "text/plain": [
       "['Aaron_Judge',\n",
       " 'Cavan_Biggio',\n",
       " 'Charlie_Blackmon',\n",
       " 'Christian_Walker',\n",
       " 'James_Paxton',\n",
       " 'Joey_Lucchesi',\n",
       " 'Josh_Rojas',\n",
       " 'Max_Stassi',\n",
       " 'Shohei_Ohtani',\n",
       " 'Trevor_Story']"
      ]
     },
     "execution_count": 5,
     "metadata": {},
     "output_type": "execute_result"
    }
   ],
   "source": [
    "solve()"
   ]
  },
  {
   "cell_type": "code",
   "execution_count": null,
   "metadata": {},
   "outputs": [],
   "source": []
  }
 ],
 "metadata": {
  "kernelspec": {
   "display_name": "Python 3",
   "language": "python",
   "name": "python3"
  },
  "language_info": {
   "codemirror_mode": {
    "name": "ipython",
    "version": 3
   },
   "file_extension": ".py",
   "mimetype": "text/x-python",
   "name": "python",
   "nbconvert_exporter": "python",
   "pygments_lexer": "ipython3",
   "version": "3.7.2"
  }
 },
 "nbformat": 4,
 "nbformat_minor": 2
}
